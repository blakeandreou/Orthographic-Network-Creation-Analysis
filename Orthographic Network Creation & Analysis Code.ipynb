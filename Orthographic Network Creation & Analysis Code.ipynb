{
 "cells": [
  {
   "cell_type": "code",
   "execution_count": 1,
   "id": "2207b860-d68b-414e-ab06-7154badb6bfb",
   "metadata": {},
   "outputs": [],
   "source": [
    "#necessary imports\n",
    "import pandas as pd\n",
    "import editdistance\n",
    "import scipy\n",
    "import numpy as np"
   ]
  },
  {
   "cell_type": "code",
   "execution_count": 2,
   "id": "3ce87f9e-bb55-43e5-93c4-6a7698667d9a",
   "metadata": {},
   "outputs": [],
   "source": [
    "## Reading the data and removing columns that are not important. \n",
    "df = pd.read_csv(\"AppNetSci_ELP_Data.csv\", sep = ',', encoding = 'latin-1', usecols = ['Word','I_Zscore','I_Mean_Accuracy','I_NMG_Zscore', 'I_NMG_Mean_Accuracy'])"
   ]
  },
  {
   "cell_type": "code",
   "execution_count": 3,
   "id": "b066b8c8-bb08-4513-9910-7595ef1d90fe",
   "metadata": {},
   "outputs": [
    {
     "data": {
      "text/plain": [
       "['zenith',\n",
       " 'zephyr',\n",
       " 'zeppelin',\n",
       " 'zero',\n",
       " 'zeroed',\n",
       " 'zeros',\n",
       " 'zest',\n",
       " 'zigzag',\n",
       " 'zigzagging',\n",
       " 'zimbabwe']"
      ]
     },
     "execution_count": 3,
     "metadata": {},
     "output_type": "execute_result"
    }
   ],
   "source": [
    "#conversion and creation of word list to build dictionary set\n",
    "objNames = df.iloc[:,0]\n",
    "names = []\n",
    "for x in range(len(objNames)):\n",
    "    names.append(str(objNames[x]))\n",
    "names[0:10]"
   ]
  },
  {
   "cell_type": "code",
   "execution_count": 4,
   "id": "9283ece1-b682-4176-b98e-06ed6bccd6e1",
   "metadata": {},
   "outputs": [],
   "source": [
    "def buildOrthogonalityNetwork(nameList):\n",
    "    #initializing dictionary\n",
    "    orthoNetwork = dict(zip(nameList, [None]*len(nameList)))\n",
    "    #for each name\n",
    "    for name in nameList:\n",
    "        for compareName in nameList:\n",
    "            if editdistance.eval(name,compareName) == 1:\n",
    "                if orthoNetwork[name] == None:\n",
    "                    orthoNetwork[name] = [compareName]\n",
    "                else:\n",
    "                    orthoNetwork[name] += [compareName]\n",
    "    return orthoNetwork"
   ]
  },
  {
   "cell_type": "code",
   "execution_count": 5,
   "id": "01c38ad8-3c1b-435c-93cf-7e98c43871e0",
   "metadata": {
    "tags": []
   },
   "outputs": [],
   "source": [
    "#AVOID RUNNNING: takes >30 minutes to process the (43,000)^2 entries with NP-hard edit distance\n",
    "#Load pickle file in next section if you are interested in raw data\n",
    "#pickle file represents dict of all words that have at least a single connection\n",
    "network = buildOrthogonalityNetwork(names)"
   ]
  },
  {
   "cell_type": "code",
   "execution_count": 6,
   "id": "7059e449-3b05-4041-ba90-ee8a6328622a",
   "metadata": {},
   "outputs": [
    {
     "name": "stdout",
     "output_type": "stream",
     "text": [
      "(40468, 41517.0, 0.40748245527330235)\n"
     ]
    }
   ],
   "source": [
    "#verify edges and nodes are approximately what they should be\n",
    "totalEdges = 0\n",
    "totalHermits = 0\n",
    "for word in network.keys():\n",
    "    if network[word] == None:\n",
    "        totalHermits += 1\n",
    "        continue\n",
    "    totalEdges += len(network[word])\n",
    "print((len(network.keys()),totalEdges/2, totalHermits/len(network.keys())))"
   ]
  },
  {
   "cell_type": "code",
   "execution_count": 7,
   "id": "e8da4898-c170-4221-86c6-50de6c5acb45",
   "metadata": {
    "tags": []
   },
   "outputs": [
    {
     "data": {
      "text/plain": [
       "23978"
      ]
     },
     "execution_count": 7,
     "metadata": {},
     "output_type": "execute_result"
    }
   ],
   "source": [
    "#removing out the hermits\n",
    "hermitlessDict = {}\n",
    "for word in network.keys():\n",
    "    if network[word] != None:\n",
    "        hermitlessDict[word] = network[word]\n",
    "len(hermitlessDict.keys())"
   ]
  },
  {
   "cell_type": "code",
   "execution_count": 31,
   "id": "cf98ac3b-ef51-44f3-8251-7376be990cdc",
   "metadata": {},
   "outputs": [],
   "source": [
    "#saving either hermitless dict\n",
    "import pickle\n",
    "# create a binary pickle file \n",
    "f = open(\"hermitlessSimilarDict.pkl\",\"wb\")\n",
    "# write the python object (dict) to pickle file\n",
    "pickle.dump(hermitlessSimilarDict,f)\n",
    "# close file\n",
    "f.close()"
   ]
  },
  {
   "cell_type": "code",
   "execution_count": 2,
   "id": "d7228c1a-1278-4c0a-9aaa-a2485c752fc9",
   "metadata": {},
   "outputs": [],
   "source": [
    "#loading either pickle if needed\n",
    "import pickle\n",
    "#load pickle file\n",
    "file = open('hermitlessDict.pkl', 'rb')\n",
    "#get data back\n",
    "hermitlessDict = pickle.load(file)\n",
    "file.close()"
   ]
  },
  {
   "cell_type": "code",
   "execution_count": 3,
   "id": "fae1abe1-fedc-4718-a400-672761504d55",
   "metadata": {
    "tags": []
   },
   "outputs": [
    {
     "data": {
      "text/plain": [
       "11363"
      ]
     },
     "execution_count": 3,
     "metadata": {},
     "output_type": "execute_result"
    }
   ],
   "source": [
    "#using bfs with a known common word to generate LCC for the undirected graph\n",
    "LCCDict = {'top':hermitlessDict['top']}\n",
    "#intializer\n",
    "queue = hermitlessDict['top'].copy()\n",
    "#cycle through\n",
    "while len(queue) > 0:\n",
    "    #remove first word in list\n",
    "    potentialWord = queue.pop(0)\n",
    "    #add to LCC\n",
    "    LCCDict[potentialWord] = hermitlessDict[potentialWord]\n",
    "    #find all words connected to this one\n",
    "    potentialNewWords = hermitlessDict[potentialWord]\n",
    "    #cycle through those words\n",
    "    for potentialWord in potentialNewWords:\n",
    "        #if we haven't added it in yet\n",
    "        if potentialWord not in LCCDict.keys() and potentialWord not in queue:\n",
    "            #add to queue\n",
    "            queue.append(potentialWord)\n",
    "len(LCCDict.keys())"
   ]
  },
  {
   "cell_type": "code",
   "execution_count": 4,
   "id": "7771a84e-d71c-40d7-8c6e-aad5076118df",
   "metadata": {},
   "outputs": [
    {
     "data": {
      "text/plain": [
       "5.7671389597817475"
      ]
     },
     "execution_count": 4,
     "metadata": {},
     "output_type": "execute_result"
    }
   ],
   "source": [
    "#finding degree of each node and average degree in LCC\n",
    "numEdges = 0\n",
    "for word in LCCDict.keys():\n",
    "    numEdges += len(LCCDict[word])\n",
    "numEdges/len(LCCDict.keys())"
   ]
  },
  {
   "cell_type": "code",
   "execution_count": 5,
   "id": "65a6b8e5-8273-44c3-b18d-fa82c0d73f85",
   "metadata": {
    "tags": []
   },
   "outputs": [],
   "source": [
    "#finding mean clustering coefficient \n",
    "import networkx as nx\n",
    "nxDict = nx.Graph(LCCDict)"
   ]
  },
  {
   "cell_type": "code",
   "execution_count": 6,
   "id": "e6afb6fd-f303-458e-b784-8d5d2bb909af",
   "metadata": {},
   "outputs": [
    {
     "data": {
      "text/plain": [
       "0.27377735607763865"
      ]
     },
     "execution_count": 6,
     "metadata": {},
     "output_type": "execute_result"
    }
   ],
   "source": [
    "nx.transitivity(nxDict)"
   ]
  },
  {
   "cell_type": "code",
   "execution_count": 7,
   "id": "442e57a6-5a98-4393-a52c-87f36cd7a281",
   "metadata": {
    "tags": []
   },
   "outputs": [
    {
     "data": {
      "text/plain": [
       "8.782726505453184"
      ]
     },
     "execution_count": 7,
     "metadata": {},
     "output_type": "execute_result"
    }
   ],
   "source": [
    "#takes a few minutes, avoid if possible\n",
    "nx.average_shortest_path_length(nxDict)"
   ]
  },
  {
   "cell_type": "code",
   "execution_count": 22,
   "id": "98197e9b-fcde-42cd-bcee-7a3fc4ad2f97",
   "metadata": {},
   "outputs": [
    {
     "name": "stdout",
     "output_type": "stream",
     "text": [
      "                Word  I_Zscore  I_Mean_Accuracy  I_NMG_Zscore  \\\n",
      "0             zenith     -0.01             0.79          0.02   \n",
      "1             zephyr      0.36             0.39          0.15   \n",
      "2           zeppelin      0.51             0.61          0.29   \n",
      "3               zero     -0.76             0.97         -0.53   \n",
      "4             zeroed      0.48             0.76          0.00   \n",
      "...              ...       ...              ...           ...   \n",
      "40463  agglutination      1.14             0.29          2.31   \n",
      "40464     aggravated     -0.10             0.94         -0.17   \n",
      "40465     aggravates      0.53             0.77         -0.04   \n",
      "40466    aggravation      0.13             0.91          0.16   \n",
      "40467      aggregate     -0.08             0.84          0.08   \n",
      "\n",
      "       I_NMG_Mean_Accuracy  \n",
      "0                     0.79  \n",
      "1                     0.69  \n",
      "2                     0.96  \n",
      "3                     1.00  \n",
      "4                     1.00  \n",
      "...                    ...  \n",
      "40463                 0.18  \n",
      "40464                 0.96  \n",
      "40465                 0.88  \n",
      "40466                 0.96  \n",
      "40467                 0.96  \n",
      "\n",
      "[40468 rows x 5 columns]\n"
     ]
    }
   ],
   "source": [
    "#back to data, grab data from original datasource file\n",
    "recog = df.iloc[:,0:5]\n",
    "print(recog)"
   ]
  },
  {
   "cell_type": "code",
   "execution_count": 15,
   "id": "83a6ca57-87cd-4e64-855a-eceb071b00a0",
   "metadata": {},
   "outputs": [],
   "source": [
    "#make large dataset with [word] x [recog. stats: first level features: ortho measures]\n",
    "masterOrthoData = np.zeros((len(LCCDict.keys())-1,11))"
   ]
  },
  {
   "cell_type": "code",
   "execution_count": 18,
   "id": "cb14fe68-550d-49c3-9350-282bba2f604e",
   "metadata": {},
   "outputs": [
    {
     "data": {
      "text/plain": [
       "array([[-0.76,  0.97, -0.53, ...,  0.  ,  0.  ,  0.  ],\n",
       "       [-0.61,  1.  , -0.31, ...,  0.  ,  0.  ,  0.  ],\n",
       "       [-0.39,  0.94, -0.39, ...,  0.  ,  0.  ,  0.  ],\n",
       "       ...,\n",
       "       [-0.54,  1.  , -0.63, ...,  0.  ,  0.  ,  0.  ],\n",
       "       [ 0.13,  0.59,  0.13, ...,  0.  ,  0.  ,  0.  ],\n",
       "       [ 0.69,  0.25,  0.44, ...,  0.  ,  0.  ,  0.  ]])"
      ]
     },
     "execution_count": 18,
     "metadata": {},
     "output_type": "execute_result"
    }
   ],
   "source": [
    "#get recog stats from dataset\n",
    "RTrow = 0\n",
    "row = 0\n",
    "masterWordList = []\n",
    "for word in recog['Word']:\n",
    "    if word in LCCDict.keys():\n",
    "        #get RT\n",
    "        masterWordList.append(word)\n",
    "        RT = recog['I_Zscore'][RTrow]\n",
    "        Acc = recog['I_Mean_Accuracy'][RTrow]\n",
    "        RT_Name = recog['I_NMG_Zscore'][RTrow]\n",
    "        Acc_Name = recog['I_NMG_Mean_Accuracy'][RTrow]\n",
    "        masterOrthoData[row][0] = RT\n",
    "        masterOrthoData[row][1] = Acc\n",
    "        masterOrthoData[row][2] = RT_Name\n",
    "        masterOrthoData[row][3] = Acc_Name\n",
    "        row += 1\n",
    "    RTrow += 1\n",
    "masterOrthoData"
   ]
  },
  {
   "cell_type": "code",
   "execution_count": 26,
   "id": "3b009e6a-98cb-4942-8cba-040ce65f8de5",
   "metadata": {},
   "outputs": [],
   "source": [
    "#download first level predictors\n",
    "## Reading the data and removing columns that are not important. \n",
    "firstLevelArray = pd.read_csv(\"FirstLevelPredictorStorage.csv\", sep = ',', encoding = 'latin-1')"
   ]
  },
  {
   "cell_type": "code",
   "execution_count": 27,
   "id": "bd44cc2c-cad9-49d1-b41e-db48cdebafa0",
   "metadata": {},
   "outputs": [],
   "source": [
    "#flipping to match other datasets\n",
    "firstLevelArray = firstLevelArray.iloc[::-1]"
   ]
  },
  {
   "cell_type": "code",
   "execution_count": 22,
   "id": "44d977a7-8599-4583-b31d-b52f403833da",
   "metadata": {},
   "outputs": [
    {
     "data": {
      "text/plain": [
       "array([[-0.76,  0.97, -0.53, ...,  0.  ,  0.  ,  0.  ],\n",
       "       [-0.61,  1.  , -0.31, ...,  0.  ,  0.  ,  0.  ],\n",
       "       [-0.39,  0.94, -0.39, ...,  0.  ,  0.  ,  0.  ],\n",
       "       ...,\n",
       "       [-0.54,  1.  , -0.63, ...,  0.  ,  0.  ,  0.  ],\n",
       "       [ 0.13,  0.59,  0.13, ...,  0.  ,  0.  ,  0.  ],\n",
       "       [ 0.69,  0.25,  0.44, ...,  0.  ,  0.  ,  0.  ]])"
      ]
     },
     "execution_count": 22,
     "metadata": {},
     "output_type": "execute_result"
    }
   ],
   "source": [
    "#now add in the predictors like we did the RT stats\n",
    "row = 0\n",
    "#for each word in established order from before\n",
    "for word in masterWordList:\n",
    "    #find row in data set\n",
    "    nextRow = firstLevelArray.loc[firstLevelArray['Word'] == word]\n",
    "    #capitalize if necessary and rerun\n",
    "    if nextRow['Length'].values.size == 0:\n",
    "        nextRow = firstLevelArray.loc[firstLevelArray['Word'] == word.capitalize()]\n",
    "    #fill out master\n",
    "    masterOrthoData[row][4] = nextRow['Length'].values[0]\n",
    "    masterOrthoData[row][7] = nextRow['Log_Freq_HAL'].values[0]\n",
    "    if nextRow['NPhon'].values not in ['#']:\n",
    "        masterOrthoData[row][5] = nextRow['NPhon'].values[0]\n",
    "        masterOrthoData[row][6] = nextRow['NSyll'].values[0]\n",
    "    else:\n",
    "        masterOrthoData[row][5] = 0\n",
    "        masterOrthoData[row][6] = 0\n",
    "    row = row + 1\n",
    "masterOrthoData"
   ]
  },
  {
   "cell_type": "code",
   "execution_count": 23,
   "id": "ec14f6ac-405d-4aa9-aa13-31d78bcbff2e",
   "metadata": {},
   "outputs": [],
   "source": [
    "#now to generate the ortho network stats\n",
    "row = 0\n",
    "for word in masterWordList:\n",
    "    wordDegree = len(LCCDict[word])\n",
    "    wordCloseCentrality = nx.closeness_centrality(nxDict,u=word)\n",
    "    wordClustering = nx.clustering(nxDict,nodes=word)\n",
    "    masterOrthoData[row][8] = wordDegree\n",
    "    masterOrthoData[row][9] = wordClustering\n",
    "    masterOrthoData[row][10] = wordCloseCentrality\n",
    "    row = row + 1"
   ]
  },
  {
   "cell_type": "code",
   "execution_count": 24,
   "id": "70657ce3-82f3-4811-bf76-6ab736dd0f94",
   "metadata": {},
   "outputs": [],
   "source": [
    "import statsmodels.api as sm"
   ]
  },
  {
   "cell_type": "code",
   "execution_count": 63,
   "id": "6073d6f0-7811-4c14-9a56-776a20076f4f",
   "metadata": {},
   "outputs": [
    {
     "name": "stdout",
     "output_type": "stream",
     "text": [
      "[-0.76        0.97       -0.53        1.          4.          4.\n",
      "  2.          9.965       3.          0.33333333  0.1228311 ]\n",
      "[4.    4.    2.    9.965]\n"
     ]
    }
   ],
   "source": [
    "print(masterOrthoData[0])\n",
    "print(masterOrthoData[0,4:8])"
   ]
  },
  {
   "cell_type": "code",
   "execution_count": 65,
   "id": "4fce437b-5a52-4781-be9a-7cdac9b2799b",
   "metadata": {
    "tags": []
   },
   "outputs": [
    {
     "name": "stdout",
     "output_type": "stream",
     "text": [
      "                            OLS Regression Results                            \n",
      "==============================================================================\n",
      "Dep. Variable:                      y   R-squared:                       0.437\n",
      "Model:                            OLS   Adj. R-squared:                  0.437\n",
      "Method:                 Least Squares   F-statistic:                     2202.\n",
      "Date:                Wed, 12 Apr 2023   Prob (F-statistic):               0.00\n",
      "Time:                        18:44:04   Log-Likelihood:                -292.07\n",
      "No. Observations:               11362   AIC:                             594.1\n",
      "Df Residuals:                   11357   BIC:                             630.8\n",
      "Df Model:                           4                                         \n",
      "Covariance Type:            nonrobust                                         \n",
      "==============================================================================\n",
      "                 coef    std err          t      P>|t|      [0.025      0.975]\n",
      "------------------------------------------------------------------------------\n",
      "const          0.4653      0.016     29.537      0.000       0.434       0.496\n",
      "x1            -0.0273      0.003     -9.129      0.000      -0.033      -0.021\n",
      "x2            -0.0198      0.004     -5.424      0.000      -0.027      -0.013\n",
      "x3             0.1178      0.005     22.038      0.000       0.107       0.128\n",
      "x4            -0.0964      0.001    -86.848      0.000      -0.099      -0.094\n",
      "==============================================================================\n",
      "Omnibus:                     1589.327   Durbin-Watson:                   1.620\n",
      "Prob(Omnibus):                  0.000   Jarque-Bera (JB):             3152.524\n",
      "Skew:                           0.872   Prob(JB):                         0.00\n",
      "Kurtosis:                       4.902   Cond. No.                         70.8\n",
      "==============================================================================\n",
      "\n",
      "Notes:\n",
      "[1] Standard Errors assume that the covariance matrix of the errors is correctly specified.\n",
      "                            OLS Regression Results                            \n",
      "==============================================================================\n",
      "Dep. Variable:                      y   R-squared:                       0.443\n",
      "Model:                            OLS   Adj. R-squared:                  0.443\n",
      "Method:                 Least Squares   F-statistic:                     1292.\n",
      "Date:                Wed, 12 Apr 2023   Prob (F-statistic):               0.00\n",
      "Time:                        18:44:04   Log-Likelihood:                -225.09\n",
      "No. Observations:               11362   AIC:                             466.2\n",
      "Df Residuals:                   11354   BIC:                             524.9\n",
      "Df Model:                           7                                         \n",
      "Covariance Type:            nonrobust                                         \n",
      "==============================================================================\n",
      "                 coef    std err          t      P>|t|      [0.025      0.975]\n",
      "------------------------------------------------------------------------------\n",
      "const          0.7243      0.039     18.799      0.000       0.649       0.800\n",
      "x1            -0.0488      0.004    -12.459      0.000      -0.056      -0.041\n",
      "x2            -0.0179      0.004     -4.832      0.000      -0.025      -0.011\n",
      "x3             0.1026      0.006     18.517      0.000       0.092       0.113\n",
      "x4            -0.0950      0.001    -84.825      0.000      -0.097      -0.093\n",
      "x5            -0.0051      0.001     -7.598      0.000      -0.006      -0.004\n",
      "x6             0.0179      0.009      1.963      0.050    2.51e-05       0.036\n",
      "x7            -0.9302      0.190     -4.895      0.000      -1.303      -0.558\n",
      "==============================================================================\n",
      "Omnibus:                     1519.117   Durbin-Watson:                   1.624\n",
      "Prob(Omnibus):                  0.000   Jarque-Bera (JB):             2958.057\n",
      "Skew:                           0.845   Prob(JB):                         0.00\n",
      "Kurtosis:                       4.841   Cond. No.                     1.01e+03\n",
      "==============================================================================\n",
      "\n",
      "Notes:\n",
      "[1] Standard Errors assume that the covariance matrix of the errors is correctly specified.\n",
      "[2] The condition number is large, 1.01e+03. This might indicate that there are\n",
      "strong multicollinearity or other numerical problems.\n",
      "                            OLS Regression Results                            \n",
      "==============================================================================\n",
      "Dep. Variable:                      y   R-squared:                       0.339\n",
      "Model:                            OLS   Adj. R-squared:                  0.339\n",
      "Method:                 Least Squares   F-statistic:                     1458.\n",
      "Date:                Wed, 12 Apr 2023   Prob (F-statistic):               0.00\n",
      "Time:                        18:44:04   Log-Likelihood:                 5393.2\n",
      "No. Observations:               11362   AIC:                        -1.078e+04\n",
      "Df Residuals:                   11357   BIC:                        -1.074e+04\n",
      "Df Model:                           4                                         \n",
      "Covariance Type:            nonrobust                                         \n",
      "==============================================================================\n",
      "                 coef    std err          t      P>|t|      [0.025      0.975]\n",
      "------------------------------------------------------------------------------\n",
      "const          0.2727      0.010     28.554      0.000       0.254       0.291\n",
      "x1             0.0417      0.002     23.041      0.000       0.038       0.045\n",
      "x2             0.0191      0.002      8.628      0.000       0.015       0.023\n",
      "x3            -0.0539      0.003    -16.626      0.000      -0.060      -0.048\n",
      "x4             0.0493      0.001     73.249      0.000       0.048       0.051\n",
      "==============================================================================\n",
      "Omnibus:                     3054.934   Durbin-Watson:                   1.622\n",
      "Prob(Omnibus):                  0.000   Jarque-Bera (JB):             7959.990\n",
      "Skew:                          -1.456   Prob(JB):                         0.00\n",
      "Kurtosis:                       5.886   Cond. No.                         70.8\n",
      "==============================================================================\n",
      "\n",
      "Notes:\n",
      "[1] Standard Errors assume that the covariance matrix of the errors is correctly specified.\n",
      "                            OLS Regression Results                            \n",
      "==============================================================================\n",
      "Dep. Variable:                      y   R-squared:                       0.343\n",
      "Model:                            OLS   Adj. R-squared:                  0.343\n",
      "Method:                 Least Squares   F-statistic:                     848.2\n",
      "Date:                Wed, 12 Apr 2023   Prob (F-statistic):               0.00\n",
      "Time:                        18:44:04   Log-Likelihood:                 5428.6\n",
      "No. Observations:               11362   AIC:                        -1.084e+04\n",
      "Df Residuals:                   11354   BIC:                        -1.078e+04\n",
      "Df Model:                           7                                         \n",
      "Covariance Type:            nonrobust                                         \n",
      "==============================================================================\n",
      "                 coef    std err          t      P>|t|      [0.025      0.975]\n",
      "------------------------------------------------------------------------------\n",
      "const          0.1944      0.023      8.298      0.000       0.148       0.240\n",
      "x1             0.0488      0.002     20.532      0.000       0.044       0.054\n",
      "x2             0.0190      0.002      8.451      0.000       0.015       0.023\n",
      "x3            -0.0483      0.003    -14.345      0.000      -0.055      -0.042\n",
      "x4             0.0485      0.001     71.295      0.000       0.047       0.050\n",
      "x5             0.0028      0.000      6.816      0.000       0.002       0.004\n",
      "x6            -0.0102      0.006     -1.843      0.065      -0.021       0.001\n",
      "x7             0.1929      0.116      1.670      0.095      -0.034       0.419\n",
      "==============================================================================\n",
      "Omnibus:                     3007.604   Durbin-Watson:                   1.624\n",
      "Prob(Omnibus):                  0.000   Jarque-Bera (JB):             7749.110\n",
      "Skew:                          -1.438   Prob(JB):                         0.00\n",
      "Kurtosis:                       5.845   Cond. No.                     1.01e+03\n",
      "==============================================================================\n",
      "\n",
      "Notes:\n",
      "[1] Standard Errors assume that the covariance matrix of the errors is correctly specified.\n",
      "[2] The condition number is large, 1.01e+03. This might indicate that there are\n",
      "strong multicollinearity or other numerical problems.\n",
      "                            OLS Regression Results                            \n",
      "==============================================================================\n",
      "Dep. Variable:                      y   R-squared:                       0.257\n",
      "Model:                            OLS   Adj. R-squared:                  0.257\n",
      "Method:                 Least Squares   F-statistic:                     982.1\n",
      "Date:                Wed, 12 Apr 2023   Prob (F-statistic):               0.00\n",
      "Time:                        18:44:04   Log-Likelihood:                 48.523\n",
      "No. Observations:               11362   AIC:                            -87.05\n",
      "Df Residuals:                   11357   BIC:                            -50.36\n",
      "Df Model:                           4                                         \n",
      "Covariance Type:            nonrobust                                         \n",
      "==============================================================================\n",
      "                 coef    std err          t      P>|t|      [0.025      0.975]\n",
      "------------------------------------------------------------------------------\n",
      "const         -0.1912      0.015    -12.506      0.000      -0.221      -0.161\n",
      "x1             0.0149      0.003      5.151      0.000       0.009       0.021\n",
      "x2             0.0089      0.004      2.503      0.012       0.002       0.016\n",
      "x3             0.0604      0.005     11.640      0.000       0.050       0.071\n",
      "x4            -0.0509      0.001    -47.226      0.000      -0.053      -0.049\n",
      "==============================================================================\n",
      "Omnibus:                     2065.797   Durbin-Watson:                   1.213\n",
      "Prob(Omnibus):                  0.000   Jarque-Bera (JB):             4471.120\n",
      "Skew:                           1.063   Prob(JB):                         0.00\n",
      "Kurtosis:                       5.220   Cond. No.                         70.8\n",
      "==============================================================================\n",
      "\n",
      "Notes:\n",
      "[1] Standard Errors assume that the covariance matrix of the errors is correctly specified.\n",
      "                            OLS Regression Results                            \n",
      "==============================================================================\n",
      "Dep. Variable:                      y   R-squared:                       0.267\n",
      "Model:                            OLS   Adj. R-squared:                  0.266\n",
      "Method:                 Least Squares   F-statistic:                     590.2\n",
      "Date:                Wed, 12 Apr 2023   Prob (F-statistic):               0.00\n",
      "Time:                        18:44:04   Log-Likelihood:                 123.99\n",
      "No. Observations:               11362   AIC:                            -232.0\n",
      "Df Residuals:                   11354   BIC:                            -173.3\n",
      "Df Model:                           7                                         \n",
      "Covariance Type:            nonrobust                                         \n",
      "==============================================================================\n",
      "                 coef    std err          t      P>|t|      [0.025      0.975]\n",
      "------------------------------------------------------------------------------\n",
      "const         -0.1726      0.037     -4.620      0.000      -0.246      -0.099\n",
      "x1             0.0104      0.004      2.752      0.006       0.003       0.018\n",
      "x2             0.0049      0.004      1.368      0.171      -0.002       0.012\n",
      "x3             0.0550      0.005     10.245      0.000       0.045       0.066\n",
      "x4            -0.0487      0.001    -44.876      0.000      -0.051      -0.047\n",
      "x5            -0.0078      0.001    -11.954      0.000      -0.009      -0.007\n",
      "x6            -0.0063      0.009     -0.715      0.474      -0.024       0.011\n",
      "x7             0.5278      0.184      2.865      0.004       0.167       0.889\n",
      "==============================================================================\n",
      "Omnibus:                     1967.547   Durbin-Watson:                   1.221\n",
      "Prob(Omnibus):                  0.000   Jarque-Bera (JB):             4154.299\n",
      "Skew:                           1.026   Prob(JB):                         0.00\n",
      "Kurtosis:                       5.136   Cond. No.                     1.01e+03\n",
      "==============================================================================\n",
      "\n",
      "Notes:\n",
      "[1] Standard Errors assume that the covariance matrix of the errors is correctly specified.\n",
      "[2] The condition number is large, 1.01e+03. This might indicate that there are\n",
      "strong multicollinearity or other numerical problems.\n",
      "                            OLS Regression Results                            \n",
      "==============================================================================\n",
      "Dep. Variable:                      y   R-squared:                       0.154\n",
      "Model:                            OLS   Adj. R-squared:                  0.154\n",
      "Method:                 Least Squares   F-statistic:                     517.0\n",
      "Date:                Wed, 12 Apr 2023   Prob (F-statistic):               0.00\n",
      "Time:                        18:44:04   Log-Likelihood:                 13625.\n",
      "No. Observations:               11362   AIC:                        -2.724e+04\n",
      "Df Residuals:                   11357   BIC:                        -2.720e+04\n",
      "Df Model:                           4                                         \n",
      "Covariance Type:            nonrobust                                         \n",
      "==============================================================================\n",
      "                 coef    std err          t      P>|t|      [0.025      0.975]\n",
      "------------------------------------------------------------------------------\n",
      "const          0.8142      0.005    175.898      0.000       0.805       0.823\n",
      "x1             0.0099      0.001     11.335      0.000       0.008       0.012\n",
      "x2             0.0066      0.001      6.196      0.000       0.005       0.009\n",
      "x3            -0.0246      0.002    -15.635      0.000      -0.028      -0.021\n",
      "x4             0.0138      0.000     42.303      0.000       0.013       0.014\n",
      "==============================================================================\n",
      "Omnibus:                     7626.096   Durbin-Watson:                   1.670\n",
      "Prob(Omnibus):                  0.000   Jarque-Bera (JB):           111595.659\n",
      "Skew:                          -3.080   Prob(JB):                         0.00\n",
      "Kurtosis:                      17.063   Cond. No.                         70.8\n",
      "==============================================================================\n",
      "\n",
      "Notes:\n",
      "[1] Standard Errors assume that the covariance matrix of the errors is correctly specified.\n",
      "                            OLS Regression Results                            \n",
      "==============================================================================\n",
      "Dep. Variable:                      y   R-squared:                       0.160\n",
      "Model:                            OLS   Adj. R-squared:                  0.159\n",
      "Method:                 Least Squares   F-statistic:                     308.2\n",
      "Date:                Wed, 12 Apr 2023   Prob (F-statistic):               0.00\n",
      "Time:                        18:44:04   Log-Likelihood:                 13663.\n",
      "No. Observations:               11362   AIC:                        -2.731e+04\n",
      "Df Residuals:                   11354   BIC:                        -2.725e+04\n",
      "Df Model:                           7                                         \n",
      "Covariance Type:            nonrobust                                         \n",
      "==============================================================================\n",
      "                 coef    std err          t      P>|t|      [0.025      0.975]\n",
      "------------------------------------------------------------------------------\n",
      "const          0.8416      0.011     74.160      0.000       0.819       0.864\n",
      "x1             0.0085      0.001      7.405      0.000       0.006       0.011\n",
      "x2             0.0080      0.001      7.385      0.000       0.006       0.010\n",
      "x3            -0.0249      0.002    -15.281      0.000      -0.028      -0.022\n",
      "x4             0.0134      0.000     40.501      0.000       0.013       0.014\n",
      "x5             0.0016      0.000      8.200      0.000       0.001       0.002\n",
      "x6             0.0041      0.003      1.528      0.127      -0.001       0.009\n",
      "x7            -0.2718      0.056     -4.857      0.000      -0.382      -0.162\n",
      "==============================================================================\n",
      "Omnibus:                     7556.412   Durbin-Watson:                   1.672\n",
      "Prob(Omnibus):                  0.000   Jarque-Bera (JB):           108606.862\n",
      "Skew:                          -3.047   Prob(JB):                         0.00\n",
      "Kurtosis:                      16.866   Cond. No.                     1.01e+03\n",
      "==============================================================================\n",
      "\n",
      "Notes:\n",
      "[1] Standard Errors assume that the covariance matrix of the errors is correctly specified.\n",
      "[2] The condition number is large, 1.01e+03. This might indicate that there are\n",
      "strong multicollinearity or other numerical problems.\n"
     ]
    }
   ],
   "source": [
    "firstLevel = masterOrthoDataCopy[:,5:9].copy()\n",
    "secondLevel = masterOrthoDataCopy[:,5:12].copy()\n",
    "firstLevel = sm.tools.tools.add_constant(firstLevel, prepend=True)\n",
    "secondLevel = sm.tools.tools.add_constant(secondLevel, prepend=True)\n",
    "for x in range(4):\n",
    "    mod = sm.OLS(masterOrthoData[:,x],firstLevel)\n",
    "    res = mod.fit()\n",
    "    print(res.summary())\n",
    "    mod = sm.OLS(masterOrthoData[:,x],secondLevel)\n",
    "    res = mod.fit()\n",
    "    print(res.summary())"
   ]
  },
  {
   "cell_type": "code",
   "execution_count": 4,
   "id": "d5d858d1-0d2b-48d4-8304-ab82908ba7ee",
   "metadata": {},
   "outputs": [],
   "source": [
    "#building gloveDict\n",
    "glove_dictionary = {}\n",
    "with open('glove.6B.200d.txt',encoding=\"utf8\") as file:\n",
    "    for each_message in file:\n",
    "        words_in_message, coeff_cients = each_message.split(maxsplit=1)\n",
    "        coeff_cients = np.array(coeff_cients.split(),dtype = float)\n",
    "        glove_dictionary[words_in_message] = coeff_cients"
   ]
  },
  {
   "cell_type": "code",
   "execution_count": 5,
   "id": "154d7a9f-2c31-4266-b6cd-2a7d55203250",
   "metadata": {
    "tags": []
   },
   "outputs": [],
   "source": [
    "#assigning all relevant words to their vectorized form in a dict\n",
    "word_to_glove_dict = {}\n",
    "for word in names:\n",
    "    if word in glove_dictionary.keys():\n",
    "        word_to_glove_dict[word] = glove_dictionary[word]"
   ]
  },
  {
   "cell_type": "code",
   "execution_count": 7,
   "id": "d12be9cf-f4e4-4bd4-a7db-058e95eccce1",
   "metadata": {
    "tags": []
   },
   "outputs": [],
   "source": [
    "#cosine similarity tester similar to orthogonality of 1 tester.\n",
    "#tested ideal threshold of 0.55\n",
    "similarity_network = {}\n",
    "for word in word_to_glove_dict.keys():\n",
    "    neighbors = []\n",
    "    for otherWord in word_to_glove_dict.keys():\n",
    "        cosine = np.dot(word_to_glove_dict[word],word_to_glove_dict[otherWord])/(np.linalg.norm(word_to_glove_dict[word])*np.linalg.norm(word_to_glove_dict[otherWord]))\n",
    "        if cosine > 0.6 and cosine < 0.99:\n",
    "            neighbors.append(otherWord)\n",
    "    if neighbors == []:\n",
    "        similarity_network[word] = []\n",
    "    else:\n",
    "        similarity_network[word] = neighbors"
   ]
  },
  {
   "cell_type": "code",
   "execution_count": 8,
   "id": "2b9e3556-a52e-48a6-b2e5-57d5300ec582",
   "metadata": {},
   "outputs": [
    {
     "name": "stdout",
     "output_type": "stream",
     "text": [
      "4.3372667036245085 0.40365882632454264\n"
     ]
    }
   ],
   "source": [
    "#verify edges and nodes are approximately what they should be\n",
    "totalEdges = 0\n",
    "totalHermits = 0\n",
    "for word in similarity_network.keys():\n",
    "    if similarity_network[word] == []:\n",
    "        totalHermits += 1\n",
    "        continue\n",
    "    totalEdges += len(similarity_network[word])\n",
    "print(totalEdges/len(similarity_network.keys()), totalHermits/len(similarity_network.keys()))"
   ]
  },
  {
   "cell_type": "code",
   "execution_count": 12,
   "id": "bfc31a8a-bd9a-4b4c-b172-4fc79117ab9f",
   "metadata": {},
   "outputs": [
    {
     "data": {
      "text/plain": [
       "22590"
      ]
     },
     "execution_count": 12,
     "metadata": {},
     "output_type": "execute_result"
    }
   ],
   "source": [
    "#removing out the hermits\n",
    "hermitlessSimilarDict = {}\n",
    "for word in similarity_network.keys():\n",
    "    if similarity_network[word] != []:\n",
    "        hermitlessSimilarDict[word] = similarity_network[word]\n",
    "len(hermitlessSimilarDict.keys())"
   ]
  },
  {
   "cell_type": "code",
   "execution_count": 15,
   "id": "3e124497-1e67-42d6-a8c1-adefcf23553c",
   "metadata": {},
   "outputs": [
    {
     "data": {
      "text/plain": [
       "17626"
      ]
     },
     "execution_count": 15,
     "metadata": {},
     "output_type": "execute_result"
    }
   ],
   "source": [
    "#using bfs with a known common word to generate LCC for the undirected graph\n",
    "LCCSimilarDict = {'top':hermitlessSimilarDict['top']}\n",
    "#intializer\n",
    "queue = hermitlessSimilarDict['top'].copy()\n",
    "#cycle through\n",
    "while len(queue) > 0:\n",
    "    #remove first word in list\n",
    "    potentialWord = queue.pop(0)\n",
    "    #add to LCC\n",
    "    LCCSimilarDict[potentialWord] = hermitlessSimilarDict[potentialWord]\n",
    "    #find all words connected to this one\n",
    "    potentialNewWords = hermitlessSimilarDict[potentialWord]\n",
    "    #cycle through those words\n",
    "    for potentialWord in potentialNewWords:\n",
    "        #if we haven't added it in yet\n",
    "        if potentialWord not in LCCSimilarDict.keys() and potentialWord not in queue:\n",
    "            #add to queue\n",
    "            queue.append(potentialWord)\n",
    "len(LCCSimilarDict.keys())"
   ]
  },
  {
   "cell_type": "code",
   "execution_count": 16,
   "id": "a3a223a7-c9fe-4960-babe-c7c1ef1c5c58",
   "metadata": {},
   "outputs": [
    {
     "data": {
      "text/plain": [
       "8.921820038579371"
      ]
     },
     "execution_count": 16,
     "metadata": {},
     "output_type": "execute_result"
    }
   ],
   "source": [
    "#finding degree of each node and average degree in LCC\n",
    "numEdges = 0\n",
    "for word in LCCSimilarDict.keys():\n",
    "    numEdges += len(LCCSimilarDict[word])\n",
    "numEdges/len(LCCSimilarDict.keys())"
   ]
  },
  {
   "cell_type": "code",
   "execution_count": 17,
   "id": "d96d59e2-1a51-415c-9f26-70c8c31a0be2",
   "metadata": {},
   "outputs": [],
   "source": [
    "#finding mean clustering coefficient \n",
    "import networkx as nx\n",
    "nxSimilarDict = nx.Graph(LCCSimilarDict)"
   ]
  },
  {
   "cell_type": "code",
   "execution_count": 18,
   "id": "97477b7a-ffd0-4852-a7c9-4b12a068f254",
   "metadata": {},
   "outputs": [
    {
     "data": {
      "text/plain": [
       "0.43026549484798804"
      ]
     },
     "execution_count": 18,
     "metadata": {},
     "output_type": "execute_result"
    }
   ],
   "source": [
    "nx.transitivity(nxSimilarDict)"
   ]
  },
  {
   "cell_type": "code",
   "execution_count": 20,
   "id": "362737c2-3866-4639-9812-ca14eed52b43",
   "metadata": {},
   "outputs": [
    {
     "data": {
      "text/plain": [
       "8.24569964583268"
      ]
     },
     "execution_count": 20,
     "metadata": {},
     "output_type": "execute_result"
    }
   ],
   "source": [
    "#takes a few minutes, avoid if possible\n",
    "nx.average_shortest_path_length(nxSimilarDict)"
   ]
  },
  {
   "cell_type": "code",
   "execution_count": 24,
   "id": "a828c5cd-ef41-4d8f-8042-2dc56c8f3015",
   "metadata": {
    "tags": []
   },
   "outputs": [
    {
     "data": {
      "text/plain": [
       "array([[-0.39,  0.94, -0.39, ...,  0.  ,  0.  ,  0.  ],\n",
       "       [ 0.38,  0.91,  0.27, ...,  0.  ,  0.  ,  0.  ],\n",
       "       [-0.45,  0.91, -0.21, ...,  0.  ,  0.  ,  0.  ],\n",
       "       ...,\n",
       "       [ 0.  ,  0.86,  0.1 , ...,  0.  ,  0.  ,  0.  ],\n",
       "       [-0.1 ,  0.94, -0.17, ...,  0.  ,  0.  ,  0.  ],\n",
       "       [ 0.53,  0.77, -0.04, ...,  0.  ,  0.  ,  0.  ]])"
      ]
     },
     "execution_count": 24,
     "metadata": {},
     "output_type": "execute_result"
    }
   ],
   "source": [
    "#now that we have functioning network we try to build the testing matrix again\n",
    "masterSimilarData = np.zeros((len(LCCSimilarDict.keys()),11))\n",
    "RTrow = 0\n",
    "row = 0\n",
    "masterWordList = []\n",
    "for word in recog['Word']:\n",
    "    if word in LCCSimilarDict.keys():\n",
    "        #get RT\n",
    "        masterWordList.append(word)\n",
    "        RT = recog['I_Zscore'][RTrow]\n",
    "        Acc = recog['I_Mean_Accuracy'][RTrow]\n",
    "        RT_Name = recog['I_NMG_Zscore'][RTrow]\n",
    "        Acc_Name = recog['I_NMG_Mean_Accuracy'][RTrow]\n",
    "        masterSimilarData[row][0] = RT\n",
    "        masterSimilarData[row][1] = Acc\n",
    "        masterSimilarData[row][2] = RT_Name\n",
    "        masterSimilarData[row][3] = Acc_Name\n",
    "        row += 1\n",
    "    RTrow += 1\n",
    "masterSimilarData"
   ]
  },
  {
   "cell_type": "code",
   "execution_count": 28,
   "id": "586050db-6246-4ea8-ba65-77b4ae9be5d5",
   "metadata": {
    "tags": []
   },
   "outputs": [
    {
     "data": {
      "text/plain": [
       "array([[-0.39,  0.94, -0.39, ...,  0.  ,  0.  ,  0.  ],\n",
       "       [ 0.38,  0.91,  0.27, ...,  0.  ,  0.  ,  0.  ],\n",
       "       [-0.45,  0.91, -0.21, ...,  0.  ,  0.  ,  0.  ],\n",
       "       ...,\n",
       "       [ 0.  ,  0.86,  0.1 , ...,  0.  ,  0.  ,  0.  ],\n",
       "       [-0.1 ,  0.94, -0.17, ...,  0.  ,  0.  ,  0.  ],\n",
       "       [ 0.53,  0.77, -0.04, ...,  0.  ,  0.  ,  0.  ]])"
      ]
     },
     "execution_count": 28,
     "metadata": {},
     "output_type": "execute_result"
    }
   ],
   "source": [
    "#first level predictors again\n",
    "row = 0\n",
    "#for each word in established order from before\n",
    "for word in masterWordList:\n",
    "    #find row in data set\n",
    "    nextRow = firstLevelArray.loc[firstLevelArray['Word'] == word]\n",
    "    #capitalize if necessary and rerun\n",
    "    if nextRow['Length'].values.size == 0:\n",
    "        nextRow = firstLevelArray.loc[firstLevelArray['Word'] == word.capitalize()]\n",
    "    #fill out master\n",
    "    masterSimilarData[row][4] = nextRow['Length'].values[0]\n",
    "    masterSimilarData[row][7] = nextRow['Log_Freq_HAL'].values[0]\n",
    "    if nextRow['NPhon'].values not in ['#']:\n",
    "        masterSimilarData[row][5] = nextRow['NPhon'].values[0]\n",
    "        masterSimilarData[row][6] = nextRow['NSyll'].values[0]\n",
    "    else:\n",
    "        masterSimilarData[row][5] = 0\n",
    "        masterSimilarData[row][6] = 0\n",
    "    row = row + 1\n",
    "masterSimilarData"
   ]
  },
  {
   "cell_type": "code",
   "execution_count": 29,
   "id": "8ae75452-ca9f-4701-977d-c3e7fa8d7015",
   "metadata": {
    "tags": []
   },
   "outputs": [
    {
     "data": {
      "text/plain": [
       "array([[-0.39      ,  0.94      , -0.39      , ...,  4.        ,\n",
       "         0.5       ,  0.10663077],\n",
       "       [ 0.38      ,  0.91      ,  0.27      , ...,  7.        ,\n",
       "         0.52380952,  0.1333631 ],\n",
       "       [-0.45      ,  0.91      , -0.21      , ...,  7.        ,\n",
       "         0.47619048,  0.1079031 ],\n",
       "       ...,\n",
       "       [ 0.        ,  0.86      ,  0.1       , ...,  0.        ,\n",
       "         0.        ,  0.        ],\n",
       "       [-0.1       ,  0.94      , -0.17      , ...,  0.        ,\n",
       "         0.        ,  0.        ],\n",
       "       [ 0.53      ,  0.77      , -0.04      , ...,  0.        ,\n",
       "         0.        ,  0.        ]])"
      ]
     },
     "execution_count": 29,
     "metadata": {},
     "output_type": "execute_result"
    }
   ],
   "source": [
    "#finding semantic network stats\n",
    "#now to generate the ortho network stats\n",
    "row = 0\n",
    "for word in masterWordList[0:20]:\n",
    "    if word not in similarity_network.keys():\n",
    "        print(word)\n",
    "        row = row + 1\n",
    "        continue\n",
    "    wordDegree = len(similarity_network[word])\n",
    "    wordCloseCentrality = nx.closeness_centrality(nxSimilarDict,u=word)\n",
    "    wordClustering = nx.clustering(nxSimilarDict,nodes=word)\n",
    "    masterSimilarData[row][8] = wordDegree\n",
    "    masterSimilarData[row][9] = wordClustering\n",
    "    masterSimilarData[row][10] = wordCloseCentrality\n",
    "    row = row + 1\n",
    "masterSimilarData"
   ]
  },
  {
   "cell_type": "code",
   "execution_count": 32,
   "id": "0d093fbb-eaf7-482b-b024-18fe4d692102",
   "metadata": {},
   "outputs": [
    {
     "data": {
      "text/plain": [
       "array([-0.39      ,  0.94      , -0.39      ,  1.        ,  4.        ,\n",
       "        4.        ,  1.        ,  5.663     ,  4.        ,  0.5       ,\n",
       "        0.10663077])"
      ]
     },
     "execution_count": 32,
     "metadata": {},
     "output_type": "execute_result"
    }
   ],
   "source": [
    "masterSimilarData[0]"
   ]
  },
  {
   "cell_type": "code",
   "execution_count": 35,
   "id": "adde9a8d-e6a9-4c78-9b9f-9ef5299274d0",
   "metadata": {
    "tags": []
   },
   "outputs": [
    {
     "name": "stdout",
     "output_type": "stream",
     "text": [
      "                            OLS Regression Results                            \n",
      "==============================================================================\n",
      "Dep. Variable:                      y   R-squared:                       0.594\n",
      "Model:                            OLS   Adj. R-squared:                  0.594\n",
      "Method:                 Least Squares   F-statistic:                     6454.\n",
      "Date:                Fri, 14 Apr 2023   Prob (F-statistic):               0.00\n",
      "Time:                        16:37:33   Log-Likelihood:                -909.85\n",
      "No. Observations:               17626   AIC:                             1830.\n",
      "Df Residuals:                   17621   BIC:                             1869.\n",
      "Df Model:                           4                                         \n",
      "Covariance Type:            nonrobust                                         \n",
      "==============================================================================\n",
      "                 coef    std err          t      P>|t|      [0.025      0.975]\n",
      "------------------------------------------------------------------------------\n",
      "const          0.1012      0.012      8.402      0.000       0.078       0.125\n",
      "x1             0.0169      0.002      8.245      0.000       0.013       0.021\n",
      "x2             0.0119      0.002      5.031      0.000       0.007       0.016\n",
      "x3             0.1081      0.004     30.386      0.000       0.101       0.115\n",
      "x4            -0.1003      0.001    -98.759      0.000      -0.102      -0.098\n",
      "==============================================================================\n",
      "Omnibus:                     2388.155   Durbin-Watson:                   1.516\n",
      "Prob(Omnibus):                  0.000   Jarque-Bera (JB):             4524.655\n",
      "Skew:                           0.866   Prob(JB):                         0.00\n",
      "Kurtosis:                       4.777   Cond. No.                         83.2\n",
      "==============================================================================\n",
      "\n",
      "Notes:\n",
      "[1] Standard Errors assume that the covariance matrix of the errors is correctly specified.\n",
      "                            OLS Regression Results                            \n",
      "==============================================================================\n",
      "Dep. Variable:                      y   R-squared:                       0.594\n",
      "Model:                            OLS   Adj. R-squared:                  0.594\n",
      "Method:                 Least Squares   F-statistic:                     3688.\n",
      "Date:                Fri, 14 Apr 2023   Prob (F-statistic):               0.00\n",
      "Time:                        16:37:33   Log-Likelihood:                -908.69\n",
      "No. Observations:               17626   AIC:                             1833.\n",
      "Df Residuals:                   17618   BIC:                             1896.\n",
      "Df Model:                           7                                         \n",
      "Covariance Type:            nonrobust                                         \n",
      "==============================================================================\n",
      "                 coef    std err          t      P>|t|      [0.025      0.975]\n",
      "------------------------------------------------------------------------------\n",
      "const          0.1008      0.012      8.365      0.000       0.077       0.124\n",
      "x1             0.0169      0.002      8.249      0.000       0.013       0.021\n",
      "x2             0.0119      0.002      5.037      0.000       0.007       0.017\n",
      "x3             0.1081      0.004     30.380      0.000       0.101       0.115\n",
      "x4            -0.1003      0.001    -98.718      0.000      -0.102      -0.098\n",
      "x5            -0.0096      0.011     -0.895      0.371      -0.031       0.011\n",
      "x6             0.2154      0.191      1.129      0.259      -0.159       0.589\n",
      "x7             0.2837      0.881      0.322      0.747      -1.444       2.011\n",
      "==============================================================================\n",
      "Omnibus:                     2390.240   Durbin-Watson:                   1.516\n",
      "Prob(Omnibus):                  0.000   Jarque-Bera (JB):             4530.614\n",
      "Skew:                           0.867   Prob(JB):                         0.00\n",
      "Kurtosis:                       4.778   Cond. No.                     6.09e+03\n",
      "==============================================================================\n",
      "\n",
      "Notes:\n",
      "[1] Standard Errors assume that the covariance matrix of the errors is correctly specified.\n",
      "[2] The condition number is large, 6.09e+03. This might indicate that there are\n",
      "strong multicollinearity or other numerical problems.\n",
      "                            OLS Regression Results                            \n",
      "==============================================================================\n",
      "Dep. Variable:                      y   R-squared:                       0.268\n",
      "Model:                            OLS   Adj. R-squared:                  0.268\n",
      "Method:                 Least Squares   F-statistic:                     1616.\n",
      "Date:                Fri, 14 Apr 2023   Prob (F-statistic):               0.00\n",
      "Time:                        16:37:33   Log-Likelihood:                 12515.\n",
      "No. Observations:               17626   AIC:                        -2.502e+04\n",
      "Df Residuals:                   17621   BIC:                        -2.498e+04\n",
      "Df Model:                           4                                         \n",
      "Covariance Type:            nonrobust                                         \n",
      "==============================================================================\n",
      "                 coef    std err          t      P>|t|      [0.025      0.975]\n",
      "------------------------------------------------------------------------------\n",
      "const          0.5371      0.006     95.464      0.000       0.526       0.548\n",
      "x1             0.0205      0.001     21.473      0.000       0.019       0.022\n",
      "x2             0.0015      0.001      1.330      0.184      -0.001       0.004\n",
      "x3            -0.0304      0.002    -18.280      0.000      -0.034      -0.027\n",
      "x4             0.0371      0.000     78.285      0.000       0.036       0.038\n",
      "==============================================================================\n",
      "Omnibus:                     7876.571   Durbin-Watson:                   1.617\n",
      "Prob(Omnibus):                  0.000   Jarque-Bera (JB):            44342.852\n",
      "Skew:                          -2.111   Prob(JB):                         0.00\n",
      "Kurtosis:                       9.523   Cond. No.                         83.2\n",
      "==============================================================================\n",
      "\n",
      "Notes:\n",
      "[1] Standard Errors assume that the covariance matrix of the errors is correctly specified.\n",
      "                            OLS Regression Results                            \n",
      "==============================================================================\n",
      "Dep. Variable:                      y   R-squared:                       0.269\n",
      "Model:                            OLS   Adj. R-squared:                  0.268\n",
      "Method:                 Least Squares   F-statistic:                     924.1\n",
      "Date:                Fri, 14 Apr 2023   Prob (F-statistic):               0.00\n",
      "Time:                        16:37:33   Log-Likelihood:                 12517.\n",
      "No. Observations:               17626   AIC:                        -2.502e+04\n",
      "Df Residuals:                   17618   BIC:                        -2.496e+04\n",
      "Df Model:                           7                                         \n",
      "Covariance Type:            nonrobust                                         \n",
      "==============================================================================\n",
      "                 coef    std err          t      P>|t|      [0.025      0.975]\n",
      "------------------------------------------------------------------------------\n",
      "const          0.5371      0.006     95.423      0.000       0.526       0.548\n",
      "x1             0.0205      0.001     21.483      0.000       0.019       0.022\n",
      "x2             0.0015      0.001      1.324      0.185      -0.001       0.004\n",
      "x3            -0.0304      0.002    -18.290      0.000      -0.034      -0.027\n",
      "x4             0.0371      0.000     78.256      0.000       0.036       0.038\n",
      "x5             0.0046      0.005      0.921      0.357      -0.005       0.014\n",
      "x6            -0.1285      0.089     -1.442      0.149      -0.303       0.046\n",
      "x7             0.1690      0.411      0.411      0.681      -0.637       0.975\n",
      "==============================================================================\n",
      "Omnibus:                     7878.781   Durbin-Watson:                   1.616\n",
      "Prob(Omnibus):                  0.000   Jarque-Bera (JB):            44377.509\n",
      "Skew:                          -2.112   Prob(JB):                         0.00\n",
      "Kurtosis:                       9.526   Cond. No.                     6.09e+03\n",
      "==============================================================================\n",
      "\n",
      "Notes:\n",
      "[1] Standard Errors assume that the covariance matrix of the errors is correctly specified.\n",
      "[2] The condition number is large, 6.09e+03. This might indicate that there are\n",
      "strong multicollinearity or other numerical problems.\n",
      "                            OLS Regression Results                            \n",
      "==============================================================================\n",
      "Dep. Variable:                      y   R-squared:                       0.469\n",
      "Model:                            OLS   Adj. R-squared:                  0.469\n",
      "Method:                 Least Squares   F-statistic:                     3887.\n",
      "Date:                Fri, 14 Apr 2023   Prob (F-statistic):               0.00\n",
      "Time:                        16:37:33   Log-Likelihood:                -2994.2\n",
      "No. Observations:               17626   AIC:                             5998.\n",
      "Df Residuals:                   17621   BIC:                             6037.\n",
      "Df Model:                           4                                         \n",
      "Covariance Type:            nonrobust                                         \n",
      "==============================================================================\n",
      "                 coef    std err          t      P>|t|      [0.025      0.975]\n",
      "------------------------------------------------------------------------------\n",
      "const         -0.0685      0.014     -5.054      0.000      -0.095      -0.042\n",
      "x1             0.0037      0.002      1.590      0.112      -0.001       0.008\n",
      "x2             0.0370      0.003     13.941      0.000       0.032       0.042\n",
      "x3             0.0832      0.004     20.778      0.000       0.075       0.091\n",
      "x4            -0.0773      0.001    -67.575      0.000      -0.080      -0.075\n",
      "==============================================================================\n",
      "Omnibus:                     2637.143   Durbin-Watson:                   1.262\n",
      "Prob(Omnibus):                  0.000   Jarque-Bera (JB):             5177.385\n",
      "Skew:                           0.930   Prob(JB):                         0.00\n",
      "Kurtosis:                       4.896   Cond. No.                         83.2\n",
      "==============================================================================\n",
      "\n",
      "Notes:\n",
      "[1] Standard Errors assume that the covariance matrix of the errors is correctly specified.\n",
      "                            OLS Regression Results                            \n",
      "==============================================================================\n",
      "Dep. Variable:                      y   R-squared:                       0.469\n",
      "Model:                            OLS   Adj. R-squared:                  0.469\n",
      "Method:                 Least Squares   F-statistic:                     2221.\n",
      "Date:                Fri, 14 Apr 2023   Prob (F-statistic):               0.00\n",
      "Time:                        16:37:33   Log-Likelihood:                -2993.2\n",
      "No. Observations:               17626   AIC:                             6002.\n",
      "Df Residuals:                   17618   BIC:                             6065.\n",
      "Df Model:                           7                                         \n",
      "Covariance Type:            nonrobust                                         \n",
      "==============================================================================\n",
      "                 coef    std err          t      P>|t|      [0.025      0.975]\n",
      "------------------------------------------------------------------------------\n",
      "const         -0.0686      0.014     -5.053      0.000      -0.095      -0.042\n",
      "x1             0.0037      0.002      1.586      0.113      -0.001       0.008\n",
      "x2             0.0370      0.003     13.943      0.000       0.032       0.042\n",
      "x3             0.0832      0.004     20.771      0.000       0.075       0.091\n",
      "x4            -0.0773      0.001    -67.553      0.000      -0.079      -0.075\n",
      "x5             0.0029      0.012      0.242      0.808      -0.021       0.027\n",
      "x6             0.2868      0.215      1.336      0.182      -0.134       0.708\n",
      "x7            -1.0208      0.992     -1.029      0.303      -2.965       0.923\n",
      "==============================================================================\n",
      "Omnibus:                     2637.965   Durbin-Watson:                   1.262\n",
      "Prob(Omnibus):                  0.000   Jarque-Bera (JB):             5180.339\n",
      "Skew:                           0.930   Prob(JB):                         0.00\n",
      "Kurtosis:                       4.896   Cond. No.                     6.09e+03\n",
      "==============================================================================\n",
      "\n",
      "Notes:\n",
      "[1] Standard Errors assume that the covariance matrix of the errors is correctly specified.\n",
      "[2] The condition number is large, 6.09e+03. This might indicate that there are\n",
      "strong multicollinearity or other numerical problems.\n",
      "                            OLS Regression Results                            \n",
      "==============================================================================\n",
      "Dep. Variable:                      y   R-squared:                       0.167\n",
      "Model:                            OLS   Adj. R-squared:                  0.167\n",
      "Method:                 Least Squares   F-statistic:                     883.7\n",
      "Date:                Fri, 14 Apr 2023   Prob (F-statistic):               0.00\n",
      "Time:                        16:37:33   Log-Likelihood:                 20483.\n",
      "No. Observations:               17626   AIC:                        -4.096e+04\n",
      "Df Residuals:                   17621   BIC:                        -4.092e+04\n",
      "Df Model:                           4                                         \n",
      "Covariance Type:            nonrobust                                         \n",
      "==============================================================================\n",
      "                 coef    std err          t      P>|t|      [0.025      0.975]\n",
      "------------------------------------------------------------------------------\n",
      "const          0.8460      0.004    236.311      0.000       0.839       0.853\n",
      "x1             0.0085      0.001     13.987      0.000       0.007       0.010\n",
      "x2            -0.0011      0.001     -1.526      0.127      -0.002       0.000\n",
      "x3            -0.0228      0.001    -21.584      0.000      -0.025      -0.021\n",
      "x4             0.0149      0.000     49.237      0.000       0.014       0.015\n",
      "==============================================================================\n",
      "Omnibus:                    12223.638   Durbin-Watson:                   1.671\n",
      "Prob(Omnibus):                  0.000   Jarque-Bera (JB):           209201.041\n",
      "Skew:                          -3.168   Prob(JB):                         0.00\n",
      "Kurtosis:                      18.643   Cond. No.                         83.2\n",
      "==============================================================================\n",
      "\n",
      "Notes:\n",
      "[1] Standard Errors assume that the covariance matrix of the errors is correctly specified.\n",
      "                            OLS Regression Results                            \n",
      "==============================================================================\n",
      "Dep. Variable:                      y   R-squared:                       0.167\n",
      "Model:                            OLS   Adj. R-squared:                  0.167\n",
      "Method:                 Least Squares   F-statistic:                     505.1\n",
      "Date:                Fri, 14 Apr 2023   Prob (F-statistic):               0.00\n",
      "Time:                        16:37:33   Log-Likelihood:                 20483.\n",
      "No. Observations:               17626   AIC:                        -4.095e+04\n",
      "Df Residuals:                   17618   BIC:                        -4.089e+04\n",
      "Df Model:                           7                                         \n",
      "Covariance Type:            nonrobust                                         \n",
      "==============================================================================\n",
      "                 coef    std err          t      P>|t|      [0.025      0.975]\n",
      "------------------------------------------------------------------------------\n",
      "const          0.8459      0.004    236.150      0.000       0.839       0.853\n",
      "x1             0.0085      0.001     13.998      0.000       0.007       0.010\n",
      "x2            -0.0011      0.001     -1.523      0.128      -0.002       0.000\n",
      "x3            -0.0228      0.001    -21.588      0.000      -0.025      -0.021\n",
      "x4             0.0149      0.000     49.243      0.000       0.014       0.015\n",
      "x5            -0.0011      0.003     -0.350      0.727      -0.007       0.005\n",
      "x6             0.0212      0.057      0.374      0.709      -0.090       0.132\n",
      "x7             0.1423      0.262      0.544      0.587      -0.371       0.655\n",
      "==============================================================================\n",
      "Omnibus:                    12222.734   Durbin-Watson:                   1.671\n",
      "Prob(Omnibus):                  0.000   Jarque-Bera (JB):           209159.277\n",
      "Skew:                          -3.168   Prob(JB):                         0.00\n",
      "Kurtosis:                      18.641   Cond. No.                     6.09e+03\n",
      "==============================================================================\n",
      "\n",
      "Notes:\n",
      "[1] Standard Errors assume that the covariance matrix of the errors is correctly specified.\n",
      "[2] The condition number is large, 6.09e+03. This might indicate that there are\n",
      "strong multicollinearity or other numerical problems.\n"
     ]
    }
   ],
   "source": [
    "import statsmodels.api as sm\n",
    "firstLevel = masterSimilarData[:,4:8].copy()\n",
    "secondLevel = masterSimilarData[:,4:12].copy()\n",
    "firstLevel = sm.tools.tools.add_constant(firstLevel, prepend=True)\n",
    "secondLevel = sm.tools.tools.add_constant(secondLevel, prepend=True)\n",
    "for x in range(4):\n",
    "    mod = sm.OLS(masterSimilarData[:,x],firstLevel)\n",
    "    res = mod.fit()\n",
    "    print(res.summary())\n",
    "    mod = sm.OLS(masterSimilarData[:,x],secondLevel)\n",
    "    res = mod.fit()\n",
    "    print(res.summary())"
   ]
  }
 ],
 "metadata": {
  "kernelspec": {
   "display_name": "Python 3 (ipykernel)",
   "language": "python",
   "name": "python3"
  },
  "language_info": {
   "codemirror_mode": {
    "name": "ipython",
    "version": 3
   },
   "file_extension": ".py",
   "mimetype": "text/x-python",
   "name": "python",
   "nbconvert_exporter": "python",
   "pygments_lexer": "ipython3",
   "version": "3.10.9"
  }
 },
 "nbformat": 4,
 "nbformat_minor": 5
}
